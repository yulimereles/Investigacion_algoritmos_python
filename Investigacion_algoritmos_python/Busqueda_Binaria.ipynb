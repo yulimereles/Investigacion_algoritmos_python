{
 "cells": [
  {
   "cell_type": "markdown",
   "metadata": {},
   "source": [
    "#Investigación Teorica.\n",
    "\n",
    "##Busqueda binaria en Pythton:\n",
    "\n",
    "La búsqueda binaria es un algoritmo  más eficiente que la búsqueda lineal, pero requiere que la lista esté ordenada. Divide repetidamente el rango de búsqueda a la mitad, comparando el valor medio con el objetivo hasta encontrarlo o determinar que no está presente.\n"
   ]
  },
  {
   "cell_type": "code",
   "execution_count": null,
   "metadata": {
    "vscode": {
     "languageId": "plaintext"
    }
   },
   "outputs": [],
   "source": [
    "\n",
    "def busqueda_binaria(lista, objetivo):\n",
    "    # Inicializar los límites de la búsqueda\n",
    "    izquierda, derecha = 0, len(lista) - 1\n",
    "\n",
    "    # Mientras el límite izquierdo no sobrepase el derecho\n",
    "    while izquierda <= derecha:\n",
    "        # Calcular el índice del elemento medio\n",
    "        medio = (izquierda + derecha) // 2\n",
    "\n",
    "        # Comparar el elemento en el índice medio con el objetivo\n",
    "        if lista[medio] == objetivo:\n",
    "            return medio  # Si se encuentra el objetivo, retornar el índice\n",
    "\n",
    "        # Si el objetivo es mayor que el elemento medio\n",
    "        elif lista[medio] < objetivo:\n",
    "            izquierda = medio + 1  # Ajustar el límite izquierdo\n",
    "\n",
    "        # Si el objetivo es menor que el elemento medio\n",
    "        else:\n",
    "            derecha = medio - 1  # Ajustar el límite derecho\n",
    "\n",
    "    return -1  # Si no se encuentra el objetivo, retornar -1\n",
    "\n",
    "# Ejemplo de uso\n",
    "lista = [1, 3, 5, 7, 9]  # Lista de elementos ordenados\n",
    "objetivo = 7  # Elemento que queremos encontrar\n",
    "resultado = busqueda_binaria(lista, objetivo)  # Llamada a la función de búsqueda binaria\n",
    "print(f\"El objetivo {objetivo} está en el índice: {resultado}\")  # Imprimir el resultado\n",
    "\n"
   ]
  },
  {
   "cell_type": "markdown",
   "metadata": {},
   "source": [
    "#Busqueda binaria en Python:\n",
    "\n",
    "* La lista debe estar ordenada previamente.\n",
    "\n",
    "* Es más eficiente para listas grandes.\n",
    "\n",
    "* Tiene una complejidad de tiempo de 𝑂(log𝑛) O(logn), donde 𝑛 es el número de elementos en la lista."
   ]
  },
  {
   "cell_type": "markdown",
   "metadata": {},
   "source": [
    "#Consideracion y Comparación.\n",
    "\n",
    "* Facilidad de Implementación: La búsqueda lineal es más sencilla de implementar y entender.\n",
    "\n",
    "* Eficiencia: La búsqueda binaria es mucho más rápida para listas grandes, pero requiere que la lista esté ordenada.\n",
    "\n",
    "* Aplicaciones: La búsqueda lineal es adecuada para listas pequeñas o cuando los datos no están ordenados, mientras que la búsqueda binaria es preferible para listas grandes y ordenadas.\n"
   ]
  },
  {
   "cell_type": "code",
   "execution_count": null,
   "metadata": {
    "vscode": {
     "languageId": "plaintext"
    }
   },
   "outputs": [],
   "source": [
    "#Ejemplo con Comparación\n",
    "\n",
    "# Definición de la función de búsqueda lineal\n",
    "def busqueda_lineal(lista, objetivo):\n",
    "    # Iterar sobre todos los índices de la lista\n",
    "    for i in range(len(lista)):\n",
    "        # Si el elemento en la posición i es igual al objetivo, se ha encontrado el objetivo\n",
    "        if lista[i] == objetivo:\n",
    "            return i  # Retorna el índice donde se encontró el objetivo\n",
    "    return -1  # Si no se encuentra el objetivo, retorna -1\n",
    "\n",
    "# Definición de la función de búsqueda binaria\n",
    "def busqueda_binaria(lista, objetivo):\n",
    "    # Inicializar los límites de la búsqueda\n",
    "    izquierda, derecha = 0, len(lista) - 1\n",
    "\n",
    "    # Mientras el límite izquierdo no sobrepase el derecho\n",
    "    while izquierda <= derecha:\n",
    "        # Calcular el índice del elemento medio\n",
    "        medio = (izquierda + derecha) // 2\n",
    "\n",
    "        # Comparar el elemento en el índice medio con el objetivo\n",
    "        if lista[medio] == objetivo:\n",
    "            return medio  # Si se encuentra el objetivo, retornar el índice\n",
    "        elif lista[medio] < objetivo:\n",
    "            izquierda = medio + 1  # Ajustar el límite izquierdo si el objetivo es mayor\n",
    "        else:\n",
    "            derecha = medio - 1  # Ajustar el límite derecho si el objetivo es menor\n",
    "\n",
    "    return -1  # Si no se encuentra el objetivo, retornar -1\n",
    "\n",
    "# Ejemplo de listas\n",
    "lista_no_ordenada = [5, 3, 7, 1, 9]  # Lista no ordenada\n",
    "lista_ordenada = [1, 3, 5, 7, 9]  # Lista ordenada\n",
    "objetivo = 7  # Elemento que queremos encontrar\n",
    "\n",
    "# Usando búsqueda lineal en una lista no ordenada\n",
    "resultado_lineal = busqueda_lineal(lista_no_ordenada, objetivo)\n",
    "print(f\"(Lineal) El objetivo {objetivo} está en el índice: {resultado_lineal}\")\n",
    "\n",
    "# Usando búsqueda binaria en una lista ordenada\n",
    "resultado_binario = busqueda_binaria(lista_ordenada, objetivo)\n",
    "print(f\"(Binaria) El objetivo {objetivo} está en el índice: {resultado_binario}\")\n"
   ]
  }
 ],
 "metadata": {
  "language_info": {
   "name": "python"
  }
 },
 "nbformat": 4,
 "nbformat_minor": 2
}
