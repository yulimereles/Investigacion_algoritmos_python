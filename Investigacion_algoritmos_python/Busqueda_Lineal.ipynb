{
 "cells": [
  {
   "cell_type": "markdown",
   "metadata": {},
   "source": [
    "#Investigacion teorica. \n",
    "\n",
    "##Búsqueda Lineal en Python:\n",
    "\n",
    "La búsqueda lineal (o secuencial) consiste en recorrer una lista elemento por elemento(uno por uno), comparando cada uno con el valor buscado hasta encontrarlo o llegar al final de la lista. Es un método simple y fácil de implementar.\n"
   ]
  },
  {
   "cell_type": "code",
   "execution_count": null,
   "metadata": {
    "vscode": {
     "languageId": "plaintext"
    }
   },
   "outputs": [],
   "source": [
    "def busqueda_lineal(lista, objetivo):\n",
    "    # Itera sobre todos los índices de la lista\n",
    "    for i in range(len(lista)):\n",
    "        # Si el elemento en la posición i es igual al objetivo, se ha encontrado el objetivo\n",
    "        if lista[i] == objetivo:\n",
    "            return i  # Retorna el índice donde se encontró el objetivo\n",
    "    return -1  # Si se recorre toda la lista y no se encuentra el objetivo, retorna -1\n",
    "\n",
    "# Ejemplo de uso\n",
    "lista = [5, 3, 7, 1, 9]  # Definimos una lista de elementos\n",
    "objetivo = 7  # Definimos el valor que estamos buscando en la lista\n",
    "resultado = busqueda_lineal(lista, objetivo)  # Llamamos a la función de búsqueda lineal\n",
    "print(f\"El objetivo {objetivo} está en el índice: {resultado}\")  # Imprimimos el resultado\n",
    "\n"
   ]
  },
  {
   "cell_type": "markdown",
   "metadata": {},
   "source": [
    "\n",
    "Busqueda lineal en Python: \n",
    "\n",
    "* La lista no necesita estar ordenada. \n",
    "\n",
    "* Es útil para listas pequeñas o cuando la simplicidad es una \n",
    "prioridad.\n",
    "\n",
    "* Tiene una complejidad de 𝑂(𝑛), donde n es el número de elementos en la lista. \n"
   ]
  }
 ],
 "metadata": {
  "language_info": {
   "name": "python"
  }
 },
 "nbformat": 4,
 "nbformat_minor": 2
}
